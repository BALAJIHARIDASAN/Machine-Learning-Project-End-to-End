{
 "cells": [
  {
   "cell_type": "code",
   "execution_count": 1,
   "metadata": {},
   "outputs": [],
   "source": [
    "import pandas as pd"
   ]
  },
  {
   "cell_type": "code",
   "execution_count": 6,
   "metadata": {},
   "outputs": [],
   "source": [
    "train_file_path = r'C:\\Users\\91822\\Desktop\\git_hub\\Machine-Learning-project-end-to-end\\housing\\artifact\\data_ingestion\\2023-01-17-21-38-53\\ingested_data\\train\\housing.csv'\n",
    "\n",
    "df = pd.read_csv(train_file_path)"
   ]
  },
  {
   "cell_type": "code",
   "execution_count": 7,
   "metadata": {},
   "outputs": [
    {
     "data": {
      "text/html": [
       "<div>\n",
       "<style scoped>\n",
       "    .dataframe tbody tr th:only-of-type {\n",
       "        vertical-align: middle;\n",
       "    }\n",
       "\n",
       "    .dataframe tbody tr th {\n",
       "        vertical-align: top;\n",
       "    }\n",
       "\n",
       "    .dataframe thead th {\n",
       "        text-align: right;\n",
       "    }\n",
       "</style>\n",
       "<table border=\"1\" class=\"dataframe\">\n",
       "  <thead>\n",
       "    <tr style=\"text-align: right;\">\n",
       "      <th></th>\n",
       "      <th>longitude</th>\n",
       "      <th>latitude</th>\n",
       "      <th>housing_median_age</th>\n",
       "      <th>total_rooms</th>\n",
       "      <th>total_bedrooms</th>\n",
       "      <th>population</th>\n",
       "      <th>households</th>\n",
       "      <th>median_income</th>\n",
       "      <th>median_house_value</th>\n",
       "      <th>ocean_proximity</th>\n",
       "    </tr>\n",
       "  </thead>\n",
       "  <tbody>\n",
       "    <tr>\n",
       "      <th>0</th>\n",
       "      <td>-117.03</td>\n",
       "      <td>32.71</td>\n",
       "      <td>33.0</td>\n",
       "      <td>3126.0</td>\n",
       "      <td>627.0</td>\n",
       "      <td>2300.0</td>\n",
       "      <td>623.0</td>\n",
       "      <td>3.2596</td>\n",
       "      <td>103000.0</td>\n",
       "      <td>NEAR OCEAN</td>\n",
       "    </tr>\n",
       "    <tr>\n",
       "      <th>1</th>\n",
       "      <td>-122.29</td>\n",
       "      <td>37.52</td>\n",
       "      <td>38.0</td>\n",
       "      <td>3767.0</td>\n",
       "      <td>603.0</td>\n",
       "      <td>1455.0</td>\n",
       "      <td>615.0</td>\n",
       "      <td>6.8787</td>\n",
       "      <td>386800.0</td>\n",
       "      <td>NEAR OCEAN</td>\n",
       "    </tr>\n",
       "    <tr>\n",
       "      <th>2</th>\n",
       "      <td>-117.70</td>\n",
       "      <td>33.54</td>\n",
       "      <td>4.0</td>\n",
       "      <td>4956.0</td>\n",
       "      <td>693.0</td>\n",
       "      <td>1802.0</td>\n",
       "      <td>625.0</td>\n",
       "      <td>7.9338</td>\n",
       "      <td>354700.0</td>\n",
       "      <td>&lt;1H OCEAN</td>\n",
       "    </tr>\n",
       "    <tr>\n",
       "      <th>3</th>\n",
       "      <td>-119.06</td>\n",
       "      <td>34.36</td>\n",
       "      <td>52.0</td>\n",
       "      <td>1409.0</td>\n",
       "      <td>359.0</td>\n",
       "      <td>981.0</td>\n",
       "      <td>304.0</td>\n",
       "      <td>2.7951</td>\n",
       "      <td>199300.0</td>\n",
       "      <td>&lt;1H OCEAN</td>\n",
       "    </tr>\n",
       "    <tr>\n",
       "      <th>4</th>\n",
       "      <td>-118.62</td>\n",
       "      <td>34.06</td>\n",
       "      <td>25.0</td>\n",
       "      <td>3546.0</td>\n",
       "      <td>584.0</td>\n",
       "      <td>1530.0</td>\n",
       "      <td>601.0</td>\n",
       "      <td>7.4001</td>\n",
       "      <td>500001.0</td>\n",
       "      <td>NEAR OCEAN</td>\n",
       "    </tr>\n",
       "  </tbody>\n",
       "</table>\n",
       "</div>"
      ],
      "text/plain": [
       "   longitude  latitude  housing_median_age  total_rooms  total_bedrooms  \\\n",
       "0    -117.03     32.71                33.0       3126.0           627.0   \n",
       "1    -122.29     37.52                38.0       3767.0           603.0   \n",
       "2    -117.70     33.54                 4.0       4956.0           693.0   \n",
       "3    -119.06     34.36                52.0       1409.0           359.0   \n",
       "4    -118.62     34.06                25.0       3546.0           584.0   \n",
       "\n",
       "   population  households  median_income  median_house_value ocean_proximity  \n",
       "0      2300.0       623.0         3.2596            103000.0      NEAR OCEAN  \n",
       "1      1455.0       615.0         6.8787            386800.0      NEAR OCEAN  \n",
       "2      1802.0       625.0         7.9338            354700.0       <1H OCEAN  \n",
       "3       981.0       304.0         2.7951            199300.0       <1H OCEAN  \n",
       "4      1530.0       601.0         7.4001            500001.0      NEAR OCEAN  "
      ]
     },
     "execution_count": 7,
     "metadata": {},
     "output_type": "execute_result"
    }
   ],
   "source": [
    "df.head()"
   ]
  },
  {
   "cell_type": "code",
   "execution_count": 8,
   "metadata": {},
   "outputs": [
    {
     "data": {
      "text/plain": [
       "(16512, 10)"
      ]
     },
     "execution_count": 8,
     "metadata": {},
     "output_type": "execute_result"
    }
   ],
   "source": [
    "df.shape"
   ]
  },
  {
   "cell_type": "code",
   "execution_count": 17,
   "metadata": {},
   "outputs": [
    {
     "data": {
      "text/plain": [
       "0        103000.0\n",
       "1        386800.0\n",
       "2        354700.0\n",
       "3        199300.0\n",
       "4        500001.0\n",
       "           ...   \n",
       "16507    162100.0\n",
       "16508    227300.0\n",
       "16509    335200.0\n",
       "16510    116700.0\n",
       "16511     81000.0\n",
       "Name: median_house_value, Length: 16512, dtype: float64"
      ]
     },
     "execution_count": 17,
     "metadata": {},
     "output_type": "execute_result"
    }
   ],
   "source": [
    "df['median_house_value']"
   ]
  },
  {
   "cell_type": "code",
   "execution_count": 18,
   "metadata": {},
   "outputs": [],
   "source": [
    "x = df.drop('median_house_value',1)"
   ]
  },
  {
   "cell_type": "code",
   "execution_count": 19,
   "metadata": {},
   "outputs": [],
   "source": [
    "y = df[['median_house_value']]"
   ]
  },
  {
   "cell_type": "code",
   "execution_count": 20,
   "metadata": {},
   "outputs": [
    {
     "data": {
      "text/plain": [
       "(16512, 9)"
      ]
     },
     "execution_count": 20,
     "metadata": {},
     "output_type": "execute_result"
    }
   ],
   "source": [
    "x.shape"
   ]
  },
  {
   "cell_type": "code",
   "execution_count": 21,
   "metadata": {},
   "outputs": [
    {
     "data": {
      "text/plain": [
       "(16512, 1)"
      ]
     },
     "execution_count": 21,
     "metadata": {},
     "output_type": "execute_result"
    }
   ],
   "source": [
    "y.shape"
   ]
  },
  {
   "cell_type": "code",
   "execution_count": 22,
   "metadata": {},
   "outputs": [
    {
     "data": {
      "text/html": [
       "<div>\n",
       "<style scoped>\n",
       "    .dataframe tbody tr th:only-of-type {\n",
       "        vertical-align: middle;\n",
       "    }\n",
       "\n",
       "    .dataframe tbody tr th {\n",
       "        vertical-align: top;\n",
       "    }\n",
       "\n",
       "    .dataframe thead th {\n",
       "        text-align: right;\n",
       "    }\n",
       "</style>\n",
       "<table border=\"1\" class=\"dataframe\">\n",
       "  <thead>\n",
       "    <tr style=\"text-align: right;\">\n",
       "      <th></th>\n",
       "      <th>longitude</th>\n",
       "      <th>latitude</th>\n",
       "      <th>housing_median_age</th>\n",
       "      <th>total_rooms</th>\n",
       "      <th>total_bedrooms</th>\n",
       "      <th>population</th>\n",
       "      <th>households</th>\n",
       "      <th>median_income</th>\n",
       "      <th>ocean_proximity</th>\n",
       "    </tr>\n",
       "  </thead>\n",
       "  <tbody>\n",
       "    <tr>\n",
       "      <th>0</th>\n",
       "      <td>-117.03</td>\n",
       "      <td>32.71</td>\n",
       "      <td>33.0</td>\n",
       "      <td>3126.0</td>\n",
       "      <td>627.0</td>\n",
       "      <td>2300.0</td>\n",
       "      <td>623.0</td>\n",
       "      <td>3.2596</td>\n",
       "      <td>NEAR OCEAN</td>\n",
       "    </tr>\n",
       "    <tr>\n",
       "      <th>1</th>\n",
       "      <td>-122.29</td>\n",
       "      <td>37.52</td>\n",
       "      <td>38.0</td>\n",
       "      <td>3767.0</td>\n",
       "      <td>603.0</td>\n",
       "      <td>1455.0</td>\n",
       "      <td>615.0</td>\n",
       "      <td>6.8787</td>\n",
       "      <td>NEAR OCEAN</td>\n",
       "    </tr>\n",
       "    <tr>\n",
       "      <th>2</th>\n",
       "      <td>-117.70</td>\n",
       "      <td>33.54</td>\n",
       "      <td>4.0</td>\n",
       "      <td>4956.0</td>\n",
       "      <td>693.0</td>\n",
       "      <td>1802.0</td>\n",
       "      <td>625.0</td>\n",
       "      <td>7.9338</td>\n",
       "      <td>&lt;1H OCEAN</td>\n",
       "    </tr>\n",
       "    <tr>\n",
       "      <th>3</th>\n",
       "      <td>-119.06</td>\n",
       "      <td>34.36</td>\n",
       "      <td>52.0</td>\n",
       "      <td>1409.0</td>\n",
       "      <td>359.0</td>\n",
       "      <td>981.0</td>\n",
       "      <td>304.0</td>\n",
       "      <td>2.7951</td>\n",
       "      <td>&lt;1H OCEAN</td>\n",
       "    </tr>\n",
       "    <tr>\n",
       "      <th>4</th>\n",
       "      <td>-118.62</td>\n",
       "      <td>34.06</td>\n",
       "      <td>25.0</td>\n",
       "      <td>3546.0</td>\n",
       "      <td>584.0</td>\n",
       "      <td>1530.0</td>\n",
       "      <td>601.0</td>\n",
       "      <td>7.4001</td>\n",
       "      <td>NEAR OCEAN</td>\n",
       "    </tr>\n",
       "    <tr>\n",
       "      <th>...</th>\n",
       "      <td>...</td>\n",
       "      <td>...</td>\n",
       "      <td>...</td>\n",
       "      <td>...</td>\n",
       "      <td>...</td>\n",
       "      <td>...</td>\n",
       "      <td>...</td>\n",
       "      <td>...</td>\n",
       "      <td>...</td>\n",
       "    </tr>\n",
       "    <tr>\n",
       "      <th>16507</th>\n",
       "      <td>-121.36</td>\n",
       "      <td>38.04</td>\n",
       "      <td>4.0</td>\n",
       "      <td>2477.0</td>\n",
       "      <td>359.0</td>\n",
       "      <td>1234.0</td>\n",
       "      <td>377.0</td>\n",
       "      <td>5.5427</td>\n",
       "      <td>INLAND</td>\n",
       "    </tr>\n",
       "    <tr>\n",
       "      <th>16508</th>\n",
       "      <td>-121.96</td>\n",
       "      <td>37.30</td>\n",
       "      <td>20.0</td>\n",
       "      <td>4228.0</td>\n",
       "      <td>1006.0</td>\n",
       "      <td>2334.0</td>\n",
       "      <td>1007.0</td>\n",
       "      <td>4.3081</td>\n",
       "      <td>&lt;1H OCEAN</td>\n",
       "    </tr>\n",
       "    <tr>\n",
       "      <th>16509</th>\n",
       "      <td>-122.02</td>\n",
       "      <td>37.36</td>\n",
       "      <td>24.0</td>\n",
       "      <td>1709.0</td>\n",
       "      <td>437.0</td>\n",
       "      <td>892.0</td>\n",
       "      <td>408.0</td>\n",
       "      <td>4.9671</td>\n",
       "      <td>&lt;1H OCEAN</td>\n",
       "    </tr>\n",
       "    <tr>\n",
       "      <th>16510</th>\n",
       "      <td>-122.25</td>\n",
       "      <td>37.80</td>\n",
       "      <td>36.0</td>\n",
       "      <td>1678.0</td>\n",
       "      <td>606.0</td>\n",
       "      <td>1645.0</td>\n",
       "      <td>543.0</td>\n",
       "      <td>2.2303</td>\n",
       "      <td>NEAR BAY</td>\n",
       "    </tr>\n",
       "    <tr>\n",
       "      <th>16511</th>\n",
       "      <td>-116.48</td>\n",
       "      <td>33.94</td>\n",
       "      <td>10.0</td>\n",
       "      <td>3254.0</td>\n",
       "      <td>913.0</td>\n",
       "      <td>923.0</td>\n",
       "      <td>486.0</td>\n",
       "      <td>1.8000</td>\n",
       "      <td>INLAND</td>\n",
       "    </tr>\n",
       "  </tbody>\n",
       "</table>\n",
       "<p>16512 rows × 9 columns</p>\n",
       "</div>"
      ],
      "text/plain": [
       "       longitude  latitude  housing_median_age  total_rooms  total_bedrooms  \\\n",
       "0        -117.03     32.71                33.0       3126.0           627.0   \n",
       "1        -122.29     37.52                38.0       3767.0           603.0   \n",
       "2        -117.70     33.54                 4.0       4956.0           693.0   \n",
       "3        -119.06     34.36                52.0       1409.0           359.0   \n",
       "4        -118.62     34.06                25.0       3546.0           584.0   \n",
       "...          ...       ...                 ...          ...             ...   \n",
       "16507    -121.36     38.04                 4.0       2477.0           359.0   \n",
       "16508    -121.96     37.30                20.0       4228.0          1006.0   \n",
       "16509    -122.02     37.36                24.0       1709.0           437.0   \n",
       "16510    -122.25     37.80                36.0       1678.0           606.0   \n",
       "16511    -116.48     33.94                10.0       3254.0           913.0   \n",
       "\n",
       "       population  households  median_income ocean_proximity  \n",
       "0          2300.0       623.0         3.2596      NEAR OCEAN  \n",
       "1          1455.0       615.0         6.8787      NEAR OCEAN  \n",
       "2          1802.0       625.0         7.9338       <1H OCEAN  \n",
       "3           981.0       304.0         2.7951       <1H OCEAN  \n",
       "4          1530.0       601.0         7.4001      NEAR OCEAN  \n",
       "...           ...         ...            ...             ...  \n",
       "16507      1234.0       377.0         5.5427          INLAND  \n",
       "16508      2334.0      1007.0         4.3081       <1H OCEAN  \n",
       "16509       892.0       408.0         4.9671       <1H OCEAN  \n",
       "16510      1645.0       543.0         2.2303        NEAR BAY  \n",
       "16511       923.0       486.0         1.8000          INLAND  \n",
       "\n",
       "[16512 rows x 9 columns]"
      ]
     },
     "execution_count": 22,
     "metadata": {},
     "output_type": "execute_result"
    }
   ],
   "source": [
    "x"
   ]
  },
  {
   "cell_type": "code",
   "execution_count": 24,
   "metadata": {},
   "outputs": [
    {
     "data": {
      "text/plain": [
       "longitude               0\n",
       "latitude                0\n",
       "housing_median_age      0\n",
       "total_rooms             0\n",
       "total_bedrooms        175\n",
       "population              0\n",
       "households              0\n",
       "median_income           0\n",
       "median_house_value      0\n",
       "ocean_proximity         0\n",
       "dtype: int64"
      ]
     },
     "execution_count": 24,
     "metadata": {},
     "output_type": "execute_result"
    }
   ],
   "source": [
    "df.isnull().sum()"
   ]
  },
  {
   "cell_type": "code",
   "execution_count": 26,
   "metadata": {},
   "outputs": [],
   "source": [
    "from sklearn.impute import SimpleImputer\n",
    "\n",
    "\n",
    "imputer = SimpleImputer(strategy='median')\n"
   ]
  },
  {
   "cell_type": "code",
   "execution_count": 27,
   "metadata": {},
   "outputs": [],
   "source": [
    "num_col =x.drop('ocean_proximity',1)"
   ]
  },
  {
   "cell_type": "code",
   "execution_count": 28,
   "metadata": {},
   "outputs": [
    {
     "data": {
      "text/html": [
       "<div>\n",
       "<style scoped>\n",
       "    .dataframe tbody tr th:only-of-type {\n",
       "        vertical-align: middle;\n",
       "    }\n",
       "\n",
       "    .dataframe tbody tr th {\n",
       "        vertical-align: top;\n",
       "    }\n",
       "\n",
       "    .dataframe thead th {\n",
       "        text-align: right;\n",
       "    }\n",
       "</style>\n",
       "<table border=\"1\" class=\"dataframe\">\n",
       "  <thead>\n",
       "    <tr style=\"text-align: right;\">\n",
       "      <th></th>\n",
       "      <th>longitude</th>\n",
       "      <th>latitude</th>\n",
       "      <th>housing_median_age</th>\n",
       "      <th>total_rooms</th>\n",
       "      <th>total_bedrooms</th>\n",
       "      <th>population</th>\n",
       "      <th>households</th>\n",
       "      <th>median_income</th>\n",
       "    </tr>\n",
       "  </thead>\n",
       "  <tbody>\n",
       "    <tr>\n",
       "      <th>0</th>\n",
       "      <td>-117.03</td>\n",
       "      <td>32.71</td>\n",
       "      <td>33.0</td>\n",
       "      <td>3126.0</td>\n",
       "      <td>627.0</td>\n",
       "      <td>2300.0</td>\n",
       "      <td>623.0</td>\n",
       "      <td>3.2596</td>\n",
       "    </tr>\n",
       "    <tr>\n",
       "      <th>1</th>\n",
       "      <td>-122.29</td>\n",
       "      <td>37.52</td>\n",
       "      <td>38.0</td>\n",
       "      <td>3767.0</td>\n",
       "      <td>603.0</td>\n",
       "      <td>1455.0</td>\n",
       "      <td>615.0</td>\n",
       "      <td>6.8787</td>\n",
       "    </tr>\n",
       "    <tr>\n",
       "      <th>2</th>\n",
       "      <td>-117.70</td>\n",
       "      <td>33.54</td>\n",
       "      <td>4.0</td>\n",
       "      <td>4956.0</td>\n",
       "      <td>693.0</td>\n",
       "      <td>1802.0</td>\n",
       "      <td>625.0</td>\n",
       "      <td>7.9338</td>\n",
       "    </tr>\n",
       "    <tr>\n",
       "      <th>3</th>\n",
       "      <td>-119.06</td>\n",
       "      <td>34.36</td>\n",
       "      <td>52.0</td>\n",
       "      <td>1409.0</td>\n",
       "      <td>359.0</td>\n",
       "      <td>981.0</td>\n",
       "      <td>304.0</td>\n",
       "      <td>2.7951</td>\n",
       "    </tr>\n",
       "    <tr>\n",
       "      <th>4</th>\n",
       "      <td>-118.62</td>\n",
       "      <td>34.06</td>\n",
       "      <td>25.0</td>\n",
       "      <td>3546.0</td>\n",
       "      <td>584.0</td>\n",
       "      <td>1530.0</td>\n",
       "      <td>601.0</td>\n",
       "      <td>7.4001</td>\n",
       "    </tr>\n",
       "    <tr>\n",
       "      <th>...</th>\n",
       "      <td>...</td>\n",
       "      <td>...</td>\n",
       "      <td>...</td>\n",
       "      <td>...</td>\n",
       "      <td>...</td>\n",
       "      <td>...</td>\n",
       "      <td>...</td>\n",
       "      <td>...</td>\n",
       "    </tr>\n",
       "    <tr>\n",
       "      <th>16507</th>\n",
       "      <td>-121.36</td>\n",
       "      <td>38.04</td>\n",
       "      <td>4.0</td>\n",
       "      <td>2477.0</td>\n",
       "      <td>359.0</td>\n",
       "      <td>1234.0</td>\n",
       "      <td>377.0</td>\n",
       "      <td>5.5427</td>\n",
       "    </tr>\n",
       "    <tr>\n",
       "      <th>16508</th>\n",
       "      <td>-121.96</td>\n",
       "      <td>37.30</td>\n",
       "      <td>20.0</td>\n",
       "      <td>4228.0</td>\n",
       "      <td>1006.0</td>\n",
       "      <td>2334.0</td>\n",
       "      <td>1007.0</td>\n",
       "      <td>4.3081</td>\n",
       "    </tr>\n",
       "    <tr>\n",
       "      <th>16509</th>\n",
       "      <td>-122.02</td>\n",
       "      <td>37.36</td>\n",
       "      <td>24.0</td>\n",
       "      <td>1709.0</td>\n",
       "      <td>437.0</td>\n",
       "      <td>892.0</td>\n",
       "      <td>408.0</td>\n",
       "      <td>4.9671</td>\n",
       "    </tr>\n",
       "    <tr>\n",
       "      <th>16510</th>\n",
       "      <td>-122.25</td>\n",
       "      <td>37.80</td>\n",
       "      <td>36.0</td>\n",
       "      <td>1678.0</td>\n",
       "      <td>606.0</td>\n",
       "      <td>1645.0</td>\n",
       "      <td>543.0</td>\n",
       "      <td>2.2303</td>\n",
       "    </tr>\n",
       "    <tr>\n",
       "      <th>16511</th>\n",
       "      <td>-116.48</td>\n",
       "      <td>33.94</td>\n",
       "      <td>10.0</td>\n",
       "      <td>3254.0</td>\n",
       "      <td>913.0</td>\n",
       "      <td>923.0</td>\n",
       "      <td>486.0</td>\n",
       "      <td>1.8000</td>\n",
       "    </tr>\n",
       "  </tbody>\n",
       "</table>\n",
       "<p>16512 rows × 8 columns</p>\n",
       "</div>"
      ],
      "text/plain": [
       "       longitude  latitude  housing_median_age  total_rooms  total_bedrooms  \\\n",
       "0        -117.03     32.71                33.0       3126.0           627.0   \n",
       "1        -122.29     37.52                38.0       3767.0           603.0   \n",
       "2        -117.70     33.54                 4.0       4956.0           693.0   \n",
       "3        -119.06     34.36                52.0       1409.0           359.0   \n",
       "4        -118.62     34.06                25.0       3546.0           584.0   \n",
       "...          ...       ...                 ...          ...             ...   \n",
       "16507    -121.36     38.04                 4.0       2477.0           359.0   \n",
       "16508    -121.96     37.30                20.0       4228.0          1006.0   \n",
       "16509    -122.02     37.36                24.0       1709.0           437.0   \n",
       "16510    -122.25     37.80                36.0       1678.0           606.0   \n",
       "16511    -116.48     33.94                10.0       3254.0           913.0   \n",
       "\n",
       "       population  households  median_income  \n",
       "0          2300.0       623.0         3.2596  \n",
       "1          1455.0       615.0         6.8787  \n",
       "2          1802.0       625.0         7.9338  \n",
       "3           981.0       304.0         2.7951  \n",
       "4          1530.0       601.0         7.4001  \n",
       "...           ...         ...            ...  \n",
       "16507      1234.0       377.0         5.5427  \n",
       "16508      2334.0      1007.0         4.3081  \n",
       "16509       892.0       408.0         4.9671  \n",
       "16510      1645.0       543.0         2.2303  \n",
       "16511       923.0       486.0         1.8000  \n",
       "\n",
       "[16512 rows x 8 columns]"
      ]
     },
     "execution_count": 28,
     "metadata": {},
     "output_type": "execute_result"
    }
   ],
   "source": [
    "num_col"
   ]
  },
  {
   "cell_type": "code",
   "execution_count": 30,
   "metadata": {},
   "outputs": [],
   "source": [
    "df =imputer.fit_transform(num_col)"
   ]
  },
  {
   "cell_type": "code",
   "execution_count": 32,
   "metadata": {},
   "outputs": [
    {
     "data": {
      "text/plain": [
       "array([[-1.1703e+02,  3.2710e+01,  3.3000e+01, ...,  2.3000e+03,\n",
       "         6.2300e+02,  3.2596e+00],\n",
       "       [-1.2229e+02,  3.7520e+01,  3.8000e+01, ...,  1.4550e+03,\n",
       "         6.1500e+02,  6.8787e+00],\n",
       "       [-1.1770e+02,  3.3540e+01,  4.0000e+00, ...,  1.8020e+03,\n",
       "         6.2500e+02,  7.9338e+00],\n",
       "       ...,\n",
       "       [-1.2202e+02,  3.7360e+01,  2.4000e+01, ...,  8.9200e+02,\n",
       "         4.0800e+02,  4.9671e+00],\n",
       "       [-1.2225e+02,  3.7800e+01,  3.6000e+01, ...,  1.6450e+03,\n",
       "         5.4300e+02,  2.2303e+00],\n",
       "       [-1.1648e+02,  3.3940e+01,  1.0000e+01, ...,  9.2300e+02,\n",
       "         4.8600e+02,  1.8000e+00]])"
      ]
     },
     "execution_count": 32,
     "metadata": {},
     "output_type": "execute_result"
    }
   ],
   "source": [
    "df"
   ]
  },
  {
   "cell_type": "code",
   "execution_count": 33,
   "metadata": {},
   "outputs": [
    {
     "data": {
      "text/plain": [
       "array(['longitude', 'latitude', 'housing_median_age', 'total_rooms',\n",
       "       'total_bedrooms', 'population', 'households', 'median_income'],\n",
       "      dtype=object)"
      ]
     },
     "execution_count": 33,
     "metadata": {},
     "output_type": "execute_result"
    }
   ],
   "source": [
    "imputer.feature_names_in_"
   ]
  },
  {
   "cell_type": "code",
   "execution_count": 34,
   "metadata": {},
   "outputs": [
    {
     "data": {
      "text/plain": [
       "array([-119.5857655 ,   35.64429142,   28.60428779, 2642.80220446,\n",
       "        539.20646386, 1430.81940407,  501.21402616,    3.87499532])"
      ]
     },
     "execution_count": 34,
     "metadata": {},
     "output_type": "execute_result"
    }
   ],
   "source": [
    "imputer.statistics_"
   ]
  },
  {
   "cell_type": "code",
   "execution_count": 37,
   "metadata": {},
   "outputs": [
    {
     "data": {
      "text/plain": [
       "-118.51"
      ]
     },
     "execution_count": 37,
     "metadata": {},
     "output_type": "execute_result"
    }
   ],
   "source": [
    "x.longitude.median()"
   ]
  },
  {
   "cell_type": "code",
   "execution_count": 38,
   "metadata": {},
   "outputs": [
    {
     "data": {
      "text/plain": [
       "0        NEAR OCEAN\n",
       "1        NEAR OCEAN\n",
       "2         <1H OCEAN\n",
       "3         <1H OCEAN\n",
       "4        NEAR OCEAN\n",
       "            ...    \n",
       "16507        INLAND\n",
       "16508     <1H OCEAN\n",
       "16509     <1H OCEAN\n",
       "16510      NEAR BAY\n",
       "16511        INLAND\n",
       "Name: ocean_proximity, Length: 16512, dtype: object"
      ]
     },
     "execution_count": 38,
     "metadata": {},
     "output_type": "execute_result"
    }
   ],
   "source": [
    "x.ocean_proximity"
   ]
  },
  {
   "cell_type": "code",
   "execution_count": 39,
   "metadata": {},
   "outputs": [
    {
     "data": {
      "text/plain": [
       "<1H OCEAN     7268\n",
       "INLAND        5220\n",
       "NEAR OCEAN    2146\n",
       "NEAR BAY      1873\n",
       "ISLAND           5\n",
       "Name: ocean_proximity, dtype: int64"
      ]
     },
     "execution_count": 39,
     "metadata": {},
     "output_type": "execute_result"
    }
   ],
   "source": [
    "x.ocean_proximity.value_counts()"
   ]
  },
  {
   "cell_type": "code",
   "execution_count": 40,
   "metadata": {},
   "outputs": [],
   "source": [
    "\n",
    "imputer = SimpleImputer(strategy='most_frequent')"
   ]
  },
  {
   "cell_type": "code",
   "execution_count": null,
   "metadata": {},
   "outputs": [],
   "source": [
    "class FeatureGenerator():\n",
    "    pass\n",
    "\n",
    "    def __init__(self,strategy = 'median') -> None:\n",
    "        self.strategy = strategy\n",
    "\n",
    "\n",
    "    def fit(self,X):\n",
    "        self.features_ = X.columns\n",
    "        self.statistic = []\n",
    "        for column in X.columns:\n",
    "            self.statistic_.append(X[column].median())\n",
    "\n",
    "    def transform(self,X):\n",
    "        for column in X.columns:\n",
    "            X[column].fillna()\n",
    "\n",
    "    def fit_transform(self,X):\n",
    "        pass\n",
    "\n"
   ]
  },
  {
   "cell_type": "code",
   "execution_count": null,
   "metadata": {},
   "outputs": [],
   "source": [
    "for idx,column in enumerate(x,columns):\n",
    "    print()"
   ]
  }
 ],
 "metadata": {
  "kernelspec": {
   "display_name": "Python 3",
   "language": "python",
   "name": "python3"
  },
  "language_info": {
   "codemirror_mode": {
    "name": "ipython",
    "version": 3
   },
   "file_extension": ".py",
   "mimetype": "text/x-python",
   "name": "python",
   "nbconvert_exporter": "python",
   "pygments_lexer": "ipython3",
   "version": "3.7.0 (default, Jun 28 2018, 08:04:48) [MSC v.1912 64 bit (AMD64)]"
  },
  "orig_nbformat": 4,
  "vscode": {
   "interpreter": {
    "hash": "51ca69122f26cb93d71a11eadd6069480422d8e314510813cce7f771282da630"
   }
  }
 },
 "nbformat": 4,
 "nbformat_minor": 2
}
